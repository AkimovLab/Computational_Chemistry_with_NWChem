{
 "cells": [
  {
   "cell_type": "markdown",
   "id": "a4e7c88b",
   "metadata": {},
   "source": [
    "Import needed libraries:\n",
    "\n",
    "`numpy`  - for working with arrays\n",
    "\n",
    "`matplotlib` - for plotting"
   ]
  },
  {
   "cell_type": "code",
   "execution_count": 11,
   "id": "73c97dd9",
   "metadata": {},
   "outputs": [],
   "source": [
    "import numpy as np\n",
    "import matplotlib.pyplot as plt\n",
    "%matplotlib inline "
   ]
  },
  {
   "cell_type": "markdown",
   "id": "a7c2dc3f",
   "metadata": {},
   "source": [
    "Load the text files containing the total alpha and beta DOS for all atoms and convert them to numeric arrays"
   ]
  },
  {
   "cell_type": "code",
   "execution_count": 12,
   "id": "f4f9732e",
   "metadata": {},
   "outputs": [],
   "source": [
    "alp_tot = np.array(np.loadtxt(\"s2-pspw-energy.mulliken_dos_alpha_all\"))\n",
    "bet_tot = np.array(np.loadtxt(\"s2-pspw-energy.mulliken_dos_beta_all\"))"
   ]
  },
  {
   "cell_type": "markdown",
   "id": "9d46279d",
   "metadata": {},
   "source": [
    "This is how the arrays look like:"
   ]
  },
  {
   "cell_type": "code",
   "execution_count": 13,
   "id": "18a89358",
   "metadata": {},
   "outputs": [
    {
     "name": "stdout",
     "output_type": "stream",
     "text": [
      "[[-8.5449e-01  1.5742e-01  1.1965e-04]\n",
      " [-8.5298e-01  1.6170e-01  3.6547e-04]\n",
      " [-8.5147e-01  1.6618e-01  6.1809e-04]\n",
      " ...\n",
      " [-1.0329e-01  3.2557e-01  1.4005e+01]\n",
      " [-1.0178e-01  3.1695e-01  1.4005e+01]\n",
      " [-1.0027e-01  3.0869e-01  1.4006e+01]]\n"
     ]
    }
   ],
   "source": [
    "print(alp_tot)"
   ]
  },
  {
   "cell_type": "markdown",
   "id": "bebfe951",
   "metadata": {},
   "source": [
    "Now, we split the table into the corresponding columns (to be the 1D arrays):\n",
    "\n",
    "* first - energy\n",
    "\n",
    "* second - the DOS of the first sulphur atom, S1\n",
    "\n",
    "* third - the DOS of the second sulphur atom, S2\n",
    "\n",
    "Then we do some manipulations - e.g. compute the total alpha or beta DOS of all atoms:"
   ]
  },
  {
   "cell_type": "code",
   "execution_count": 14,
   "id": "427631d2",
   "metadata": {},
   "outputs": [],
   "source": [
    "E = alp_tot[:, 0]\n",
    "Sa1 = alp_tot[:, 1]\n",
    "Sa2 = alp_tot[:, 2]\n",
    "Sa = Sa1 + Sa2\n",
    "\n",
    "Sb1 = bet_tot[:, 1]\n",
    "Sb2 = bet_tot[:, 2]\n",
    "Sb = (Sb1 + Sb2)"
   ]
  },
  {
   "cell_type": "markdown",
   "id": "cf7dc6bf",
   "metadata": {},
   "source": [
    "We can now plot what we want:"
   ]
  },
  {
   "cell_type": "code",
   "execution_count": 15,
   "id": "c3572feb",
   "metadata": {},
   "outputs": [
    {
     "data": {
      "text/plain": [
       "[<matplotlib.lines.Line2D at 0x14576c03fd60>]"
      ]
     },
     "execution_count": 15,
     "metadata": {},
     "output_type": "execute_result"
    },
    {
     "data": {
      "image/png": "[encoded data removed]",
      "text/plain": [
       "<Figure size 432x288 with 1 Axes>"
      ]
     },
     "metadata": {
      "needs_background": "light"
     },
     "output_type": "display_data"
    }
   ],
   "source": [
    "plt.plot(E, Sa, lw = 2, label=\"alpha\")\n",
    "plt.plot(E, Sb, lw = 2, label=\"beta\")"
   ]
  },
  {
   "cell_type": "code",
   "execution_count": null,
   "id": "aa014265",
   "metadata": {},
   "outputs": [],
   "source": []
  }
 ],
 "metadata": {
  "kernelspec": {
   "display_name": "Python 3 (ipykernel)",
   "language": "python",
   "name": "python3"
  },
  "language_info": {
   "codemirror_mode": {
    "name": "ipython",
    "version": 3
   },
   "file_extension": ".py",
   "mimetype": "text/x-python",
   "name": "python",
   "nbconvert_exporter": "python",
   "pygments_lexer": "ipython3",
   "version": "3.9.6"
  }
 },
 "nbformat": 4,
 "nbformat_minor": 5
}
